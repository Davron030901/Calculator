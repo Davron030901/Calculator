{
  "nbformat": 4,
  "nbformat_minor": 0,
  "metadata": {
    "colab": {
      "provenance": [],
      "collapsed_sections": [
        "Don7-oNFxoOQ",
        "9p_FNM3nifae",
        "JGP3zDtgiYUC",
        "aJWwy7mhiDD6",
        "3LzljT6FxHf4",
        "9tLpbJv_xKsw",
        "n447r6aM0ivf",
        "bwqw8WGSS0UD",
        "lxQ8VG-zbaxQ",
        "OhWV3sH3cuOV"
      ],
      "authorship_tag": "ABX9TyNiBd+/dC3a2VBlC1uOyiCc",
      "include_colab_link": true
    },
    "kernelspec": {
      "name": "python3",
      "display_name": "Python 3"
    },
    "language_info": {
      "name": "python"
    }
  },
  "cells": [
    {
      "cell_type": "markdown",
      "metadata": {
        "id": "view-in-github",
        "colab_type": "text"
      },
      "source": [
        "<a href=\"https://colab.research.google.com/github/Davron030901/Calculator/blob/main/Algorithm.ipynb\" target=\"_parent\"><img src=\"https://colab.research.google.com/assets/colab-badge.svg\" alt=\"Open In Colab\"/></a>"
      ]
    },
    {
      "cell_type": "markdown",
      "source": [
        "#Sonlar\n"
      ],
      "metadata": {
        "id": "Don7-oNFxoOQ"
      }
    },
    {
      "cell_type": "code",
      "source": [
        "import math"
      ],
      "metadata": {
        "id": "JSQduhjbhT1M"
      },
      "execution_count": null,
      "outputs": []
    },
    {
      "cell_type": "code",
      "execution_count": null,
      "metadata": {
        "colab": {
          "base_uri": "https://localhost:8080/"
        },
        "id": "QrSzu40CS8aR",
        "outputId": "ec83b570-d940-4184-99d3-bae6da18edb3"
      },
      "outputs": [
        {
          "output_type": "stream",
          "name": "stdout",
          "text": [
            "4\n",
            "5\n",
            "1\n"
          ]
        }
      ],
      "source": [
        "def print_digits(num:int)->None:\n",
        "  if num ==0:\n",
        "    print(0)\n",
        "    return num\n",
        "  while num!=0:\n",
        "    digit=num%10\n",
        "    print(digit)\n",
        "    num//=10\n",
        "print_digits(154)"
      ]
    },
    {
      "cell_type": "code",
      "source": [
        "def reverse_digits(num:int)->None:\n",
        "  result=0\n",
        "  while num!=0 :\n",
        "    digit=num%10\n",
        "    result=result*10+digit\n",
        "    num//=10\n",
        "  return result\n",
        "print(reverse_digits(154))"
      ],
      "metadata": {
        "colab": {
          "base_uri": "https://localhost:8080/"
        },
        "id": "2VLRNzFiUM3f",
        "outputId": "ab2bc6e9-848f-49d7-e828-02723ec85199"
      },
      "execution_count": null,
      "outputs": [
        {
          "output_type": "stream",
          "name": "stdout",
          "text": [
            "451\n"
          ]
        }
      ]
    },
    {
      "cell_type": "code",
      "source": [
        "def convert_to_binary(num:int)->None:\n",
        "  result=\"\"\n",
        "  while num !=0:\n",
        "    digit=num%2\n",
        "    result+=str(digit)\n",
        "    num//=2\n",
        "  return result[::-1]\n",
        "print(convert_to_binary(15))"
      ],
      "metadata": {
        "colab": {
          "base_uri": "https://localhost:8080/"
        },
        "id": "d7L4nSEEeDoL",
        "outputId": "c93a60a1-3e9d-4de8-95bc-7e1eb1286c80"
      },
      "execution_count": null,
      "outputs": [
        {
          "output_type": "stream",
          "name": "stdout",
          "text": [
            "1111\n"
          ]
        }
      ]
    },
    {
      "cell_type": "code",
      "source": [
        "def is_power_of_two(num:int)->None:\n",
        "  bit_count=0\n",
        "  while num!=0:\n",
        "    bit_count+= num & 1\n",
        "    num=num >> 1\n",
        "  return bit_count==1\n",
        "print(is_power_of_two(16))"
      ],
      "metadata": {
        "colab": {
          "base_uri": "https://localhost:8080/"
        },
        "id": "vlfvzv3ge3pB",
        "outputId": "dc48d13c-d884-42d7-ebae-825d94597dec"
      },
      "execution_count": null,
      "outputs": [
        {
          "output_type": "stream",
          "name": "stdout",
          "text": [
            "True\n"
          ]
        }
      ]
    },
    {
      "cell_type": "code",
      "source": [
        "def n_rooks(n:int)->None:\n",
        "  return math.factorial(n)\n",
        "print(n_rooks(3))"
      ],
      "metadata": {
        "colab": {
          "base_uri": "https://localhost:8080/"
        },
        "id": "FP3IZ722g0aq",
        "outputId": "c71e0a15-d366-4359-ba1b-e90e7ee302f6"
      },
      "execution_count": null,
      "outputs": [
        {
          "output_type": "stream",
          "name": "stdout",
          "text": [
            "6\n"
          ]
        }
      ]
    },
    {
      "cell_type": "code",
      "source": [
        "def first_to_count_to_target(k:int,target:int)->None:\n",
        "  return (target%(1+k))!=0\n",
        "print(first_to_count_to_target(2,7))"
      ],
      "metadata": {
        "colab": {
          "base_uri": "https://localhost:8080/"
        },
        "id": "bnc7PCMQhNfP",
        "outputId": "aa7f8d82-d8f0-467a-ada1-ef385b8a96fd"
      },
      "execution_count": null,
      "outputs": [
        {
          "output_type": "stream",
          "name": "stdout",
          "text": [
            "True\n"
          ]
        }
      ]
    },
    {
      "cell_type": "code",
      "source": [
        "def sum_of_odd_numbers(num:int)->int:\n",
        "  return (1+num)*(num//2+1)/2 if num%2!=0 else num*(num//2)/2\n",
        "print(sum_of_odd_numbers(10))"
      ],
      "metadata": {
        "colab": {
          "base_uri": "https://localhost:8080/"
        },
        "id": "lfeSnrrPoe5U",
        "outputId": "594bbf35-1c63-4a71-9ea7-bb73c61dad00"
      },
      "execution_count": null,
      "outputs": [
        {
          "output_type": "stream",
          "name": "stdout",
          "text": [
            "25.0\n"
          ]
        }
      ]
    },
    {
      "cell_type": "code",
      "source": [
        "def is_palindrome(word:str)->bool:\n",
        "  # return word==word[::-1]\n",
        "  # O(n)-xotira\n",
        "  # O(2n)-vaqat\n",
        "  low,high=0,len(word)-1\n",
        "  while low<high:\n",
        "    if word[low]!=word[high]:\n",
        "      return False\n",
        "    low+=1\n",
        "    high-=1\n",
        "  return True\n",
        "  # O(1)-xotira\n",
        "  # O(n/2)-vaqat\n",
        "print(is_palindrome(\"madam\"))"
      ],
      "metadata": {
        "id": "OL481k5Mv5Ny",
        "colab": {
          "base_uri": "https://localhost:8080/"
        },
        "outputId": "47d4da20-d0a7-411b-a4c7-3dcb15534f04"
      },
      "execution_count": null,
      "outputs": [
        {
          "output_type": "stream",
          "name": "stdout",
          "text": [
            "True\n"
          ]
        }
      ]
    },
    {
      "cell_type": "markdown",
      "source": [
        "#Array va String"
      ],
      "metadata": {
        "id": "9p_FNM3nifae"
      }
    },
    {
      "cell_type": "code",
      "source": [
        "def merge_two_arrays(arr1:list,arr2:list)->list:\n",
        "  result=[]\n",
        "  n,m=len(arr1),len(arr2)\n",
        "  # O(n+m)-xotira\n",
        "  # O(n+m)-vaqat\n",
        "  i=j=0\n",
        "  while i<n and j<m:\n",
        "    if arr1[i]<arr2[j]:\n",
        "      result.append(arr1[i])\n",
        "      i+=1\n",
        "    else:\n",
        "      result.append(arr2[j])\n",
        "      j+=1\n",
        "  # result.extend(arr1[i:])\n",
        "  # result.extend(arr2[j:])\n",
        "  while i<n:\n",
        "    result.append(arr1[i])\n",
        "    i+=1\n",
        "  while j<m:\n",
        "    result.append(arr2[j])\n",
        "    j+=1\n",
        "\n",
        "  return result\n",
        "print(merge_two_arrays([1,3,5,7],[2,4,6,8]))"
      ],
      "metadata": {
        "colab": {
          "base_uri": "https://localhost:8080/"
        },
        "id": "ah3nW13UW3Oh",
        "outputId": "62dfc16b-3859-49e8-fcca-fea5a7f807a0"
      },
      "execution_count": null,
      "outputs": [
        {
          "output_type": "stream",
          "name": "stdout",
          "text": [
            "[1, 2, 3, 4, 5, 6, 7, 8]\n"
          ]
        }
      ]
    },
    {
      "cell_type": "code",
      "source": [
        "# def merge_two_arrays(arr1:list[int],arr2:list[int])->Iterable[int]:\n",
        "#   n,m=len(arr1),len(arr2)\n",
        "#   # O(n+m)-xotira\n",
        "#   # O(n+m)-vaqat\n",
        "#   i=j=0\n",
        "#   while i<n and j<m:\n",
        "#     if arr1[i]<arr2[j]:\n",
        "#       yield arr1[i]\n",
        "#       i+=1\n",
        "#     else:\n",
        "#       yield arr2[j]\n",
        "#       j+=1\n",
        "#   # yield extend(arr1[i:])\n",
        "#   # yield extend(arr2[j:])\n",
        "#   while i<n:\n",
        "#     yield arr1[i]\n",
        "#     i+=1\n",
        "#   while j<m:\n",
        "#     yield arr2[j]\n",
        "#     j+=1\n",
        "\n",
        "# print(merge_two_arrays([1,3,5,7],[2,4,6,8]))"
      ],
      "metadata": {
        "id": "60sr2vwWapDR"
      },
      "execution_count": null,
      "outputs": []
    },
    {
      "cell_type": "code",
      "source": [
        "# def marge_sort(arr:list[int])->list[int]:\n",
        "#   if len(arr)<=1:\n",
        "#     return arr\n",
        "#   mid=len(arr)//2\n",
        "#   left=arr[:mid]\n",
        "#   right=arr[mid:]\n",
        "#   return marge_two_arrays(marge_sort(left),marge_sort(right))\n",
        "# print(marge_sort([1,3,5,7,2,4,6,8]))"
      ],
      "metadata": {
        "id": "VjX7uOa9aZJK"
      },
      "execution_count": null,
      "outputs": []
    },
    {
      "cell_type": "markdown",
      "source": [
        "#Linked List"
      ],
      "metadata": {
        "id": "JGP3zDtgiYUC"
      }
    },
    {
      "cell_type": "code",
      "source": [
        "class Node:\n",
        "  def __init__(self,val:int):\n",
        "    self.val=val\n",
        "    self.next=None\n",
        "# class LinkedList:\n",
        "#   def __init__(self):\n",
        "#     self.head=None"
      ],
      "metadata": {
        "id": "M7g138G0cm_8"
      },
      "execution_count": null,
      "outputs": []
    },
    {
      "cell_type": "code",
      "source": [
        "def print_elements(head:Node)->None:\n",
        "  if head is None:\n",
        "    return\n",
        "  print(head.val)\n",
        "  print_elements(head.next)\n",
        "print_elements(Node(1))"
      ],
      "metadata": {
        "colab": {
          "base_uri": "https://localhost:8080/"
        },
        "id": "4ZOtPCM3Zo25",
        "outputId": "ca104b7f-ecbd-4ed5-d3af-c712b87029c4"
      },
      "execution_count": null,
      "outputs": [
        {
          "output_type": "stream",
          "name": "stdout",
          "text": [
            "1\n"
          ]
        }
      ]
    },
    {
      "cell_type": "code",
      "source": [
        "def print_elements(head:Node)->None:\n",
        "  current=head\n",
        "  while current is not None:\n",
        "    print(current.val)\n",
        "    current=current.next\n",
        "print_elements(Node(1))"
      ],
      "metadata": {
        "colab": {
          "base_uri": "https://localhost:8080/"
        },
        "id": "NZp7Lg2lgv1O",
        "outputId": "c1f950f3-f52b-4ef6-c928-de725801ee85"
      },
      "execution_count": null,
      "outputs": [
        {
          "output_type": "stream",
          "name": "stdout",
          "text": [
            "1\n"
          ]
        }
      ]
    },
    {
      "cell_type": "code",
      "source": [
        "def print_middle(head:Node)->None:\n",
        "  fast=slow=head\n",
        "  while fast and fast.next:\n",
        "    fast=fast.next.next\n",
        "    slow=slow.next\n",
        "\n",
        "  print(slow.val)\n",
        "print_middle(Node(1))"
      ],
      "metadata": {
        "colab": {
          "base_uri": "https://localhost:8080/"
        },
        "id": "jHoR2ygKgxRb",
        "outputId": "5a1b5955-7a3c-4b11-9855-6a57bf4e459c"
      },
      "execution_count": null,
      "outputs": [
        {
          "output_type": "stream",
          "name": "stdout",
          "text": [
            "1\n"
          ]
        }
      ]
    },
    {
      "cell_type": "code",
      "source": [
        "def reverse(head:Node)->Node:\n",
        "  prev=None\n",
        "  current=head\n",
        "  while current is not None:\n",
        "    next=current.next\n",
        "    current.next=prev\n",
        "    prev=current\n",
        "    current=next\n",
        "  return prev\n",
        "print(reverse(Node(1)))"
      ],
      "metadata": {
        "colab": {
          "base_uri": "https://localhost:8080/"
        },
        "id": "A0BqQISKhObA",
        "outputId": "317421b4-f16b-41b5-daa6-e38d3dc3e76d"
      },
      "execution_count": null,
      "outputs": [
        {
          "output_type": "stream",
          "name": "stdout",
          "text": [
            "<__main__.Node object at 0x79fde9622e10>\n"
          ]
        }
      ]
    },
    {
      "cell_type": "markdown",
      "source": [
        "#Hash Table"
      ],
      "metadata": {
        "id": "aJWwy7mhiDD6"
      }
    },
    {
      "cell_type": "markdown",
      "source": [
        "##Counter\n"
      ],
      "metadata": {
        "id": "3LzljT6FxHf4"
      }
    },
    {
      "cell_type": "code",
      "source": [
        "def is_anagram(word1: str, word2: str) -> bool:\n",
        "    counter1 = dict()\n",
        "    counter2 = dict()\n",
        "\n",
        "    for char in word1:\n",
        "        if char not in counter1:\n",
        "            counter1[char] = 1\n",
        "            continue\n",
        "        counter1[char] += 1\n",
        "\n",
        "    for char in word2:\n",
        "        if char not in counter2:\n",
        "            counter2[char] = 1\n",
        "            continue  # This continue was missing\n",
        "        counter2[char] += 1\n",
        "\n",
        "    return counter1 == counter2\n",
        "\n",
        "print(is_anagram(\"listen\", \"silent\"))"
      ],
      "metadata": {
        "colab": {
          "base_uri": "https://localhost:8080/"
        },
        "id": "h50pXZXrh_Ut",
        "outputId": "2cdfd0f1-9c8b-4668-ed88-8200b93ba98c"
      },
      "execution_count": null,
      "outputs": [
        {
          "output_type": "stream",
          "name": "stdout",
          "text": [
            "True\n"
          ]
        }
      ]
    },
    {
      "cell_type": "code",
      "source": [
        "def build_counter(word:str)->dict:\n",
        "  counter=dict()\n",
        "  for char in word:\n",
        "    if char not in counter:\n",
        "      counter[char]=1\n",
        "      continue\n",
        "    counter[char]+=1\n",
        "  return counter\n",
        "def is_anagram(word1:str,word2:str)->bool:\n",
        "  counter1=build_counter(word1)\n",
        "  counter2=build_counter(word2)\n",
        "  return counter1 == counter2\n",
        "\n",
        "print(is_anagram(\"listen\",\"silent\"))"
      ],
      "metadata": {
        "colab": {
          "base_uri": "https://localhost:8080/"
        },
        "id": "jroRbn6EtII_",
        "outputId": "daac8661-621b-48a3-96a6-eac132a591f6"
      },
      "execution_count": null,
      "outputs": [
        {
          "output_type": "stream",
          "name": "stdout",
          "text": [
            "True\n"
          ]
        }
      ]
    },
    {
      "cell_type": "code",
      "source": [
        "from collections import Counter,defaultdict\n",
        "def build_counter(word:str)->dict:\n",
        "  counter=defaultdict(int)\n",
        "  for char in word:\n",
        "    counter[char]+=1\n",
        "  return counter\n",
        "def is_anagram(word1:str,word2:str)->bool:\n",
        "  counter1=build_counter(word1)\n",
        "  counter2=build_counter(word2)\n",
        "  return counter1 == counter2\n",
        "\n",
        "print(is_anagram(\"listen\",\"silent\"))"
      ],
      "metadata": {
        "colab": {
          "base_uri": "https://localhost:8080/"
        },
        "id": "FQlTM3i3uJFK",
        "outputId": "d3f6fe60-8791-45ce-a02c-9f76f72767ad"
      },
      "execution_count": null,
      "outputs": [
        {
          "output_type": "stream",
          "name": "stdout",
          "text": [
            "True\n"
          ]
        }
      ]
    },
    {
      "cell_type": "code",
      "source": [
        "from collections import Counter\n",
        "\n",
        "def is_anagram(word1: str, word2: str) -> bool:\n",
        "    return Counter(word1) == Counter(word2)\n",
        "\n",
        "print(is_anagram(\"listen\", \"silent\"))"
      ],
      "metadata": {
        "colab": {
          "base_uri": "https://localhost:8080/"
        },
        "id": "eB8gRcyrus1Z",
        "outputId": "fa9a3e20-95fd-41d5-a81b-57959758012b"
      },
      "execution_count": null,
      "outputs": [
        {
          "output_type": "stream",
          "name": "stdout",
          "text": [
            "True\n"
          ]
        }
      ]
    },
    {
      "cell_type": "code",
      "source": [
        "from collections import Counter,defaultdict\n",
        "def build_counter(word:str)->dict:\n",
        "  counter=defaultdict(int)\n",
        "  for char in word:\n",
        "    counter[char]+=1\n",
        "  return counter\n",
        "def is_anagram(word1:str,word2:str)->bool:\n",
        "  counter=build_counter(word1)\n",
        "  for char in word2:\n",
        "    counter[char]-=1\n",
        "  for val in counter.values():\n",
        "    if val!=0:\n",
        "      return False\n",
        "  return True\n",
        "\n",
        "print(is_anagram(\"listen\",\"silent\"))"
      ],
      "metadata": {
        "colab": {
          "base_uri": "https://localhost:8080/"
        },
        "id": "7R7lXxgHvLvg",
        "outputId": "f5a9be37-e716-4155-d481-6acff96bc88e"
      },
      "execution_count": null,
      "outputs": [
        {
          "output_type": "stream",
          "name": "stdout",
          "text": [
            "True\n"
          ]
        }
      ]
    },
    {
      "cell_type": "code",
      "source": [
        "from collections import Counter,defaultdict\n",
        "def build_counter(word:str)->dict:\n",
        "  counter=defaultdict(int)\n",
        "  for char in word:\n",
        "    counter[char]+=1\n",
        "  return counter\n",
        "def is_anagram(word1:str,word2:str)->bool:\n",
        "  counter1=Counter(word1)\n",
        "  counter2=Counter(word2)\n",
        "  return counter1 == counter2\n",
        "\n",
        "print(is_anagram(\"listen\",\"silent\"))"
      ],
      "metadata": {
        "colab": {
          "base_uri": "https://localhost:8080/"
        },
        "id": "kZPaFwL9vffZ",
        "outputId": "e9a8c1fd-ca91-4b24-fd2d-f55d8ae20d56"
      },
      "execution_count": null,
      "outputs": [
        {
          "output_type": "stream",
          "name": "stdout",
          "text": [
            "True\n"
          ]
        }
      ]
    },
    {
      "cell_type": "code",
      "source": [
        "from collections import Counter,defaultdict\n",
        "def build_counter(word:str)->dict:\n",
        "  counter=defaultdict(int)\n",
        "  for char in word:\n",
        "    counter[char]+=1\n",
        "  return counter\n",
        "def is_anagram(word1:str,word2:str)->bool:\n",
        "  counter=build_counter(word1)\n",
        "  for char in word2:\n",
        "    counter[char]-=1\n",
        "  return all(val==0 for val in counter.values())\n",
        "\n",
        "print(is_anagram(\"listen\",\"silent\"))"
      ],
      "metadata": {
        "colab": {
          "base_uri": "https://localhost:8080/"
        },
        "id": "GlP1V6I5wTKJ",
        "outputId": "ebcb0c5d-ed27-4883-b3a3-6562f139e49d"
      },
      "execution_count": null,
      "outputs": [
        {
          "output_type": "stream",
          "name": "stdout",
          "text": [
            "True\n"
          ]
        }
      ]
    },
    {
      "cell_type": "code",
      "source": [
        "from collections import Counter,defaultdict\n",
        "def build_counter(word:str)->dict:\n",
        "  counter=defaultdict(int)\n",
        "  for char in word:\n",
        "    counter[char]+=1\n",
        "  return counter\n",
        "def is_anagram(word1:str,word2:str)->bool:\n",
        "  counter=build_counter(word1)\n",
        "  for char in word2:\n",
        "    counter[char]-=1\n",
        "  return all([val==0 for val in counter.values()])\n",
        "\n",
        "print(is_anagram(\"listen\",\"silent\"))"
      ],
      "metadata": {
        "colab": {
          "base_uri": "https://localhost:8080/"
        },
        "id": "TBG_iDgywzws",
        "outputId": "68d063b5-de6b-41d4-e0d3-8344b07f583f"
      },
      "execution_count": null,
      "outputs": [
        {
          "output_type": "stream",
          "name": "stdout",
          "text": [
            "True\n"
          ]
        }
      ]
    },
    {
      "cell_type": "markdown",
      "source": [
        "##2 sum"
      ],
      "metadata": {
        "id": "9tLpbJv_xKsw"
      }
    },
    {
      "cell_type": "code",
      "source": [
        "def two_sum(arr:list[int],target:int)->bool:\n",
        "  complements={}\n",
        "  for index,num in enumerate(arr):\n",
        "    complements[target-num]=index\n",
        "  for index,num in enumerate(arr):\n",
        "    if num in complements and complements[num]!=index:\n",
        "      return True\n",
        "  return True\n",
        "\n",
        "print(two_sum([2,7,11,15],9))"
      ],
      "metadata": {
        "colab": {
          "base_uri": "https://localhost:8080/"
        },
        "id": "KYnpJ2fYw_AD",
        "outputId": "21991b22-f009-4bc5-e174-5408ba0b4bc7"
      },
      "execution_count": null,
      "outputs": [
        {
          "output_type": "stream",
          "name": "stdout",
          "text": [
            "True\n"
          ]
        }
      ]
    },
    {
      "cell_type": "markdown",
      "source": [
        "#Queue va Stack"
      ],
      "metadata": {
        "id": "n447r6aM0ivf"
      }
    },
    {
      "cell_type": "code",
      "source": [
        "# LIFO stack\n",
        "def valid_brackets(s:str)->bool:\n",
        "\n",
        "  # stack=deque()\n",
        "  stack=[]\n",
        "  brackets={\n",
        "      \"}\":\"{\",\n",
        "      \")\":\"(\",\n",
        "      \"]\":\"[\"\n",
        "  }\n",
        "  for char in s:\n",
        "    if char not in brackets:#yangi qavs ochyapti\n",
        "      stack.append(char)\n",
        "      continue\n",
        "    if  not stack:\n",
        "      return False\n",
        "    last_opened=stack.pop()\n",
        "    if brackets[char]!=last_opened:\n",
        "      return False\n",
        "  return not stack\n",
        "print(valid_brackets(\"()[]{}\"))\n"
      ],
      "metadata": {
        "id": "ZxUR4BWa0CbG",
        "colab": {
          "base_uri": "https://localhost:8080/"
        },
        "outputId": "140a7cbb-728d-4d0a-f5ec-49f3edf9778d"
      },
      "execution_count": null,
      "outputs": [
        {
          "output_type": "stream",
          "name": "stdout",
          "text": [
            "True\n"
          ]
        }
      ]
    },
    {
      "cell_type": "code",
      "source": [
        "# LIFO stack\n",
        "def valid_brackets(s:str)->bool:\n",
        "\n",
        "  # stack=deque()\n",
        "  stack=[]\n",
        "  brackets={\n",
        "      \"}\":\"{\",\n",
        "      \")\":\"(\",\n",
        "      \"]\":\"[\"\n",
        "  }\n",
        "  for char in s:\n",
        "    if char not in brackets:\n",
        "      stack.append(char)\n",
        "\n",
        "    elif not stack or stack.pop()!=brackets[char]:\n",
        "      return False\n",
        "  return not stack\n",
        "print(valid_brackets(\"()[]{}\"))\n"
      ],
      "metadata": {
        "colab": {
          "base_uri": "https://localhost:8080/"
        },
        "id": "yP8Hbg2nQp9r",
        "outputId": "24704c81-1788-43e1-de04-a5cd0a18e36b"
      },
      "execution_count": null,
      "outputs": [
        {
          "output_type": "stream",
          "name": "stdout",
          "text": [
            "True\n"
          ]
        }
      ]
    },
    {
      "cell_type": "markdown",
      "source": [
        "#Rekursiya"
      ],
      "metadata": {
        "id": "bwqw8WGSS0UD"
      }
    },
    {
      "cell_type": "code",
      "source": [
        "def sum_recursive(nums:list[int])->int:\n",
        "  if not nums:\n",
        "    return 0\n",
        "  return nums[0]+sum_recursive(nums[1:])\n",
        "print(sum_recursive([1,2,3,4,5]))"
      ],
      "metadata": {
        "colab": {
          "base_uri": "https://localhost:8080/"
        },
        "id": "qzUfIVzoSDi5",
        "outputId": "f1901c79-f187-4c97-ba01-fea4c1840f5c"
      },
      "execution_count": null,
      "outputs": [
        {
          "output_type": "stream",
          "name": "stdout",
          "text": [
            "15\n"
          ]
        }
      ]
    },
    {
      "cell_type": "code",
      "source": [
        "def sum_recursive(nums:list[int])->int:\n",
        "  if not nums:\n",
        "    return 0\n",
        "  return nums.pop()+sum_recursive(nums)\n",
        "print(sum_recursive([1,2,3,4,5]))"
      ],
      "metadata": {
        "colab": {
          "base_uri": "https://localhost:8080/"
        },
        "id": "Hu6JjkyEVBEi",
        "outputId": "ebe22399-8679-4d31-d0ad-742d2b2b9052"
      },
      "execution_count": null,
      "outputs": [
        {
          "output_type": "stream",
          "name": "stdout",
          "text": [
            "15\n"
          ]
        }
      ]
    },
    {
      "cell_type": "code",
      "source": [
        " def sum_recursive(nums:list[int],index=0)->int:\n",
        "  if index==len(nums):\n",
        "    return 0\n",
        "  return nums[index]+sum_recursive(nums,index+1)\n",
        "print(sum_recursive([1,2,3,4,5]))"
      ],
      "metadata": {
        "colab": {
          "base_uri": "https://localhost:8080/"
        },
        "id": "T2cy9zeaVW28",
        "outputId": "f8bad9e1-8236-459c-9d7a-049adaede9b4"
      },
      "execution_count": null,
      "outputs": [
        {
          "output_type": "stream",
          "name": "stdout",
          "text": [
            "15\n"
          ]
        }
      ]
    },
    {
      "cell_type": "code",
      "source": [
        "def reverse_recursive(word:str)->str:\n",
        "  if word==\"\":\n",
        "    return word\n",
        "  reverse_str=reverse_recursive(word[1:])\n",
        "  return reverse_str+word[0]\n",
        "\n",
        "print(reverse_recursive(\"hello\"))"
      ],
      "metadata": {
        "colab": {
          "base_uri": "https://localhost:8080/"
        },
        "id": "hkSYROpFV7CP",
        "outputId": "b28f40de-a0fa-4cdf-84e9-b732b4359bd6"
      },
      "execution_count": null,
      "outputs": [
        {
          "output_type": "stream",
          "name": "stdout",
          "text": [
            "olleh\n"
          ]
        }
      ]
    },
    {
      "cell_type": "code",
      "source": [
        "def flatten(arr):\n",
        "  \"\"\"Flattens a nested list.\n",
        "\n",
        "  Args:\n",
        "    arr: A nested list.\n",
        "\n",
        "  Returns:\n",
        "    A flattened list.\n",
        "  \"\"\"\n",
        "  result = []\n",
        "  for element in arr:\n",
        "    if isinstance(element, list):\n",
        "      result.extend(flatten(element))\n",
        "    else:\n",
        "      result.append(element)\n",
        "  return result\n",
        "\n",
        "print(flatten([[5,2],[[1,3],4]]))\n"
      ],
      "metadata": {
        "colab": {
          "base_uri": "https://localhost:8080/"
        },
        "id": "EmBREp7_W9U9",
        "outputId": "151f81d4-5375-477a-d737-2e75861a608f"
      },
      "execution_count": null,
      "outputs": [
        {
          "output_type": "stream",
          "name": "stdout",
          "text": [
            "[5, 2, 1, 3, 4]\n"
          ]
        }
      ]
    },
    {
      "cell_type": "markdown",
      "source": [
        "#Binary Search"
      ],
      "metadata": {
        "id": "lxQ8VG-zbaxQ"
      }
    },
    {
      "cell_type": "code",
      "source": [
        "def binary_search_recursive(arr: list[int], target: int) -> bool:\n",
        "  if not arr:\n",
        "    return False\n",
        "  mid = len(arr) // 2\n",
        "  if arr[mid] == target:\n",
        "    return True\n",
        "  elif arr[mid] < target:\n",
        "    return binary_search_recursive(arr[mid + 1:], target)\n",
        "  return binary_search_recursive(arr[:mid], target)\n",
        "print(binary_search_recursive([1,2,3,4,5],5))"
      ],
      "metadata": {
        "colab": {
          "base_uri": "https://localhost:8080/"
        },
        "id": "w02GGohxs-K9",
        "outputId": "8f1fe967-de61-46b3-8c22-b835fadd3dbf"
      },
      "execution_count": null,
      "outputs": [
        {
          "output_type": "stream",
          "name": "stdout",
          "text": [
            "True\n"
          ]
        }
      ]
    },
    {
      "cell_type": "code",
      "source": [
        "def bs(arr,target,left,right):\n",
        "  if left>right:\n",
        "    return False\n",
        "  mid = (left+right) // 2\n",
        "  if arr[mid] == target:\n",
        "    return True\n",
        "  elif arr[mid] < target:\n",
        "    return bs(arr, target,mid+1,right)\n",
        "  return bs(arr, target,left,mid-1)\n",
        "def binary_search_recursive(arr: list[int], target: int) -> bool:\n",
        "  return bs(arr,target,0,len(arr)-1)\n",
        "print(binary_search_recursive([1,2,3,4,5],5))"
      ],
      "metadata": {
        "colab": {
          "base_uri": "https://localhost:8080/"
        },
        "id": "ub-u_IOAum8x",
        "outputId": "839e4fd6-a61c-4b27-93bb-f90f114257d4"
      },
      "execution_count": null,
      "outputs": [
        {
          "output_type": "stream",
          "name": "stdout",
          "text": [
            "True\n"
          ]
        }
      ]
    },
    {
      "cell_type": "code",
      "source": [
        "def binary_search_iterative(arr: list[int], target: int) -> bool:\n",
        "  # call stack\n",
        "  left, right = 0, len(arr) - 1\n",
        "  while left <= right:\n",
        "    mid = (left + right) // 2\n",
        "    if arr[mid] == target:\n",
        "      return True\n",
        "    elif arr[mid] < target:\n",
        "      left = mid + 1\n",
        "    else:\n",
        "      right = mid - 1\n",
        "\n",
        "  return False\n",
        "print(binary_search_iterative([1,2,3,4,6],5))"
      ],
      "metadata": {
        "colab": {
          "base_uri": "https://localhost:8080/"
        },
        "id": "jFPWtA8qwFHq",
        "outputId": "f05b9b97-8a8c-46c7-ed3f-2e6bdd498415"
      },
      "execution_count": null,
      "outputs": [
        {
          "output_type": "stream",
          "name": "stdout",
          "text": [
            "False\n"
          ]
        }
      ]
    },
    {
      "cell_type": "markdown",
      "source": [
        "#Binary Tree"
      ],
      "metadata": {
        "id": "OhWV3sH3cuOV"
      }
    },
    {
      "cell_type": "code",
      "source": [
        "from collections import deque"
      ],
      "metadata": {
        "id": "G9ustZ504aUB"
      },
      "execution_count": null,
      "outputs": []
    },
    {
      "cell_type": "code",
      "source": [
        "class TreeNode:\n",
        "  def __init__(self,val):\n",
        "    self.val=val\n",
        "    self.left=None\n",
        "    self.right=None\n",
        "\n",
        "def is_leaf(node):\n",
        "  return not node.left and not node.right"
      ],
      "metadata": {
        "id": "xQ5EtmLecvyD"
      },
      "execution_count": null,
      "outputs": []
    },
    {
      "cell_type": "code",
      "source": [
        "def count_leaves(root:TreeNode)->int:\n",
        "  # bfs -breadth first search\n",
        "  total=0\n",
        "  queue=deque([root])\n",
        "  while queue:\n",
        "    curr=queue.pop()\n",
        "    if not curr:\n",
        "      continue\n",
        "    if is_leaf(curr):\n",
        "      total +=1\n",
        "    queue.appendleft(curr.left)\n",
        "    queue.appendright(curr.right)\n",
        "  return total"
      ],
      "metadata": {
        "id": "nWr5vyxp6DMH"
      },
      "execution_count": null,
      "outputs": []
    },
    {
      "cell_type": "code",
      "source": [
        "def count_leaves(root:TreeNode)->int:\n",
        "  # dfs -dreadth first search\n",
        "  if not root:\n",
        "    return 0\n",
        "\n",
        "  if is_leaf(root):\n",
        "    return 1\n",
        "\n",
        "  return count_leaves(root.left) + count_leaves(root.right)"
      ],
      "metadata": {
        "id": "LeeJZCg_7cyJ"
      },
      "execution_count": null,
      "outputs": []
    },
    {
      "cell_type": "code",
      "source": [
        "class TreeNode:\n",
        "  def __init__(self, val):\n",
        "    self.val = val\n",
        "    self.left = None\n",
        "    self.right = None\n",
        "\n",
        "\n",
        "def is_leaf(node):\n",
        "  return not node.left and not node.right\n",
        "\n",
        "\n",
        "def count_leaves(root: TreeNode) -> int:\n",
        "  if not root:\n",
        "    return 0\n",
        "\n",
        "  if is_leaf(root):\n",
        "    return 1\n",
        "\n",
        "  return count_leaves(root.left) + count_leaves(root.right)\n",
        "\n",
        "root = TreeNode(1)\n",
        "root.left = TreeNode(2)\n",
        "root.right = TreeNode(3)\n",
        "root.left.left = TreeNode(4)\n",
        "root.left.right = TreeNode(5)\n",
        "\n",
        "print(count_leaves(root))\n"
      ],
      "metadata": {
        "colab": {
          "base_uri": "https://localhost:8080/"
        },
        "id": "6Dmtv8Ck6mkv",
        "outputId": "c6ed774c-b7d0-480a-c2a0-bf7572baee0e"
      },
      "execution_count": null,
      "outputs": [
        {
          "output_type": "stream",
          "name": "stdout",
          "text": [
            "3\n"
          ]
        }
      ]
    },
    {
      "cell_type": "code",
      "source": [
        "class TreeNode:\n",
        "  def __init__(self, val):\n",
        "    self.val = val\n",
        "    self.left = None\n",
        "    self.right = None\n",
        "\n",
        "\n",
        "def count_leaves(root: TreeNode) -> int:\n",
        "  if not root:\n",
        "    return 0\n",
        "\n",
        "  if not root.left and not root.right:\n",
        "    return 1\n",
        "\n",
        "  return count_leaves(root.left) + count_leaves(root.right)\n",
        "\n",
        "\n",
        "# Example usage:\n",
        "root = TreeNode(1)\n",
        "root.left = TreeNode(2)\n",
        "root.right = TreeNode(3)\n",
        "root.left.left = TreeNode(4)\n",
        "root.left.right = TreeNode(5)\n",
        "\n",
        "print(count_leaves(root))  # Output: 2\n"
      ],
      "metadata": {
        "colab": {
          "base_uri": "https://localhost:8080/"
        },
        "id": "T80I-sAj6-TE",
        "outputId": "cc94980f-153f-494f-bcd0-8c503de0ca9d"
      },
      "execution_count": null,
      "outputs": [
        {
          "output_type": "stream",
          "name": "stdout",
          "text": [
            "3\n"
          ]
        }
      ]
    },
    {
      "cell_type": "code",
      "source": [
        "def bfs(root:TreeNode)->None:\n",
        "  queue=deque([root])\n",
        "  while queue:\n",
        "    curr=queue.pop()\n",
        "    if not curr:\n",
        "      continue\n",
        "    print(curr.val)\n",
        "    queue.appendleft(curr.left)\n",
        "    queue.appendright(curr.right)"
      ],
      "metadata": {
        "id": "qGXId58E7OHL"
      },
      "execution_count": null,
      "outputs": []
    },
    {
      "cell_type": "code",
      "source": [
        "def bfs(root:TreeNode)->None:\n",
        "  queue=deque([root])\n",
        "  while queue:\n",
        "    n=len(queue)\n",
        "    for _ in range(n):\n",
        "      curr=queue.pop()\n",
        "      if not curr:\n",
        "        continue\n",
        "      print(curr.val)\n",
        "      queue.appendleft(curr.left)\n",
        "      queue.appendright(curr.right)\n",
        "    print(\"Yangi qator.\")"
      ],
      "metadata": {
        "id": "yl9b-4Hw8xoX"
      },
      "execution_count": null,
      "outputs": []
    },
    {
      "cell_type": "code",
      "source": [
        "# rekursiv\n",
        "def dfs(root:TreeNode)->None:\n",
        "  if not root:\n",
        "    return\n",
        "  print(root.val)\n",
        "  dfs(root.left)\n",
        "  dfs(root.right)"
      ],
      "metadata": {
        "id": "P7gAwo7E9IQs"
      },
      "execution_count": null,
      "outputs": []
    },
    {
      "cell_type": "code",
      "source": [
        "# iterative\n",
        "def dfs(root:TreeNode)->None:\n",
        "  stack=[root]\n",
        "  while stack:\n",
        "    curr=stack.pop()\n",
        "    if not curr:\n",
        "      continue\n",
        "    print(curr.val)\n",
        "    stack.append(curr.right)\n",
        "    stack.append(curr.left)"
      ],
      "metadata": {
        "id": "mep5uTDQ9kE2"
      },
      "execution_count": null,
      "outputs": []
    },
    {
      "cell_type": "code",
      "source": [
        "def dfs(root:TreeNode)->None:\n",
        "  stack=[]\n",
        "  curr=root\n",
        "  while stack or curr:\n",
        "    while curr:\n",
        "      print(curr.val) #pre-order\n",
        "      stack.append(curr)\n",
        "      curr=curr.left\n",
        "    curr=stack.pop()\n",
        "    if not curr:\n",
        "      continue\n",
        "    print(curr.val) #in-order\n",
        "    curr=curr.right\n"
      ],
      "metadata": {
        "id": "sZ1QVtTt92CV"
      },
      "execution_count": null,
      "outputs": []
    },
    {
      "cell_type": "markdown",
      "source": [
        "#Bubble Sort"
      ],
      "metadata": {
        "id": "wmoqQZrEmutB"
      }
    },
    {
      "cell_type": "code",
      "source": [
        "nums=[5,4,3,2,1]\n",
        "def bubble(nums):\n",
        "  n=len(nums)\n",
        "  for i in range(n-1):\n",
        "    if nums[i]>nums[i+1]:\n",
        "      nums[i],nums[i+1]=nums[i+1],nums[i]\n",
        "def bubble_sort(nums):\n",
        "  n=len(nums)-1\n",
        "  for _ in range(n):\n",
        "    bubble(nums)\n",
        "bubble_sort(nums)\n",
        "print(nums)"
      ],
      "metadata": {
        "colab": {
          "base_uri": "https://localhost:8080/"
        },
        "id": "XdZ5_gi8mt1L",
        "outputId": "8526d284-d1a0-409f-8e12-d73a435deac7"
      },
      "execution_count": null,
      "outputs": [
        {
          "output_type": "stream",
          "name": "stdout",
          "text": [
            "[1, 2, 3, 4, 5]\n"
          ]
        }
      ]
    },
    {
      "cell_type": "code",
      "source": [
        "nums=list(range(100,0,-1))\n",
        "nums"
      ],
      "metadata": {
        "colab": {
          "base_uri": "https://localhost:8080/"
        },
        "id": "uiCewcydos1v",
        "outputId": "de9d5180-661c-4750-8b55-98d146bf9a71"
      },
      "execution_count": null,
      "outputs": [
        {
          "output_type": "execute_result",
          "data": {
            "text/plain": [
              "[100,\n",
              " 99,\n",
              " 98,\n",
              " 97,\n",
              " 96,\n",
              " 95,\n",
              " 94,\n",
              " 93,\n",
              " 92,\n",
              " 91,\n",
              " 90,\n",
              " 89,\n",
              " 88,\n",
              " 87,\n",
              " 86,\n",
              " 85,\n",
              " 84,\n",
              " 83,\n",
              " 82,\n",
              " 81,\n",
              " 80,\n",
              " 79,\n",
              " 78,\n",
              " 77,\n",
              " 76,\n",
              " 75,\n",
              " 74,\n",
              " 73,\n",
              " 72,\n",
              " 71,\n",
              " 70,\n",
              " 69,\n",
              " 68,\n",
              " 67,\n",
              " 66,\n",
              " 65,\n",
              " 64,\n",
              " 63,\n",
              " 62,\n",
              " 61,\n",
              " 60,\n",
              " 59,\n",
              " 58,\n",
              " 57,\n",
              " 56,\n",
              " 55,\n",
              " 54,\n",
              " 53,\n",
              " 52,\n",
              " 51,\n",
              " 50,\n",
              " 49,\n",
              " 48,\n",
              " 47,\n",
              " 46,\n",
              " 45,\n",
              " 44,\n",
              " 43,\n",
              " 42,\n",
              " 41,\n",
              " 40,\n",
              " 39,\n",
              " 38,\n",
              " 37,\n",
              " 36,\n",
              " 35,\n",
              " 34,\n",
              " 33,\n",
              " 32,\n",
              " 31,\n",
              " 30,\n",
              " 29,\n",
              " 28,\n",
              " 27,\n",
              " 26,\n",
              " 25,\n",
              " 24,\n",
              " 23,\n",
              " 22,\n",
              " 21,\n",
              " 20,\n",
              " 19,\n",
              " 18,\n",
              " 17,\n",
              " 16,\n",
              " 15,\n",
              " 14,\n",
              " 13,\n",
              " 12,\n",
              " 11,\n",
              " 10,\n",
              " 9,\n",
              " 8,\n",
              " 7,\n",
              " 6,\n",
              " 5,\n",
              " 4,\n",
              " 3,\n",
              " 2,\n",
              " 1]"
            ]
          },
          "metadata": {},
          "execution_count": 6
        }
      ]
    },
    {
      "cell_type": "code",
      "source": [
        "import random\n",
        "random.shuffle(nums)\n",
        "nums"
      ],
      "metadata": {
        "colab": {
          "base_uri": "https://localhost:8080/"
        },
        "id": "Vv8g988Ho5P7",
        "outputId": "ba09555d-5348-4b6a-eb9e-8ac7c210209f"
      },
      "execution_count": null,
      "outputs": [
        {
          "output_type": "execute_result",
          "data": {
            "text/plain": [
              "[57,\n",
              " 83,\n",
              " 20,\n",
              " 4,\n",
              " 48,\n",
              " 62,\n",
              " 59,\n",
              " 10,\n",
              " 66,\n",
              " 85,\n",
              " 11,\n",
              " 53,\n",
              " 47,\n",
              " 39,\n",
              " 93,\n",
              " 19,\n",
              " 78,\n",
              " 58,\n",
              " 34,\n",
              " 100,\n",
              " 31,\n",
              " 27,\n",
              " 24,\n",
              " 51,\n",
              " 77,\n",
              " 72,\n",
              " 92,\n",
              " 14,\n",
              " 16,\n",
              " 84,\n",
              " 35,\n",
              " 75,\n",
              " 25,\n",
              " 74,\n",
              " 32,\n",
              " 13,\n",
              " 52,\n",
              " 5,\n",
              " 98,\n",
              " 6,\n",
              " 68,\n",
              " 30,\n",
              " 41,\n",
              " 55,\n",
              " 23,\n",
              " 54,\n",
              " 18,\n",
              " 26,\n",
              " 17,\n",
              " 8,\n",
              " 82,\n",
              " 76,\n",
              " 38,\n",
              " 70,\n",
              " 7,\n",
              " 50,\n",
              " 22,\n",
              " 15,\n",
              " 86,\n",
              " 42,\n",
              " 37,\n",
              " 49,\n",
              " 43,\n",
              " 99,\n",
              " 89,\n",
              " 69,\n",
              " 79,\n",
              " 64,\n",
              " 2,\n",
              " 3,\n",
              " 28,\n",
              " 80,\n",
              " 63,\n",
              " 12,\n",
              " 1,\n",
              " 91,\n",
              " 94,\n",
              " 60,\n",
              " 71,\n",
              " 21,\n",
              " 95,\n",
              " 40,\n",
              " 45,\n",
              " 88,\n",
              " 36,\n",
              " 56,\n",
              " 96,\n",
              " 97,\n",
              " 87,\n",
              " 46,\n",
              " 33,\n",
              " 61,\n",
              " 29,\n",
              " 65,\n",
              " 73,\n",
              " 9,\n",
              " 81,\n",
              " 67,\n",
              " 90,\n",
              " 44]"
            ]
          },
          "metadata": {},
          "execution_count": 7
        }
      ]
    },
    {
      "cell_type": "code",
      "source": [
        "bubble_sort(nums)\n",
        "print(nums)"
      ],
      "metadata": {
        "colab": {
          "base_uri": "https://localhost:8080/"
        },
        "id": "bz-fJUpRpDSJ",
        "outputId": "34743a78-0105-44e5-f697-588106f17baf"
      },
      "execution_count": null,
      "outputs": [
        {
          "output_type": "stream",
          "name": "stdout",
          "text": [
            "[1, 2, 3, 4, 5, 6, 7, 8, 9, 10, 11, 12, 13, 14, 15, 16, 17, 18, 19, 20, 21, 22, 23, 24, 25, 26, 27, 28, 29, 30, 31, 32, 33, 34, 35, 36, 37, 38, 39, 40, 41, 42, 43, 44, 45, 46, 47, 48, 49, 50, 51, 52, 53, 54, 55, 56, 57, 58, 59, 60, 61, 62, 63, 64, 65, 66, 67, 68, 69, 70, 71, 72, 73, 74, 75, 76, 77, 78, 79, 80, 81, 82, 83, 84, 85, 86, 87, 88, 89, 90, 91, 92, 93, 94, 95, 96, 97, 98, 99, 100]\n"
          ]
        }
      ]
    },
    {
      "cell_type": "code",
      "source": [
        "nums=[5,4,3,2,1]\n",
        "def bubble(nums):\n",
        "  n=len(nums)\n",
        "  swaps=0\n",
        "  for i in range(n-1):\n",
        "    if nums[i]>nums[i+1]:\n",
        "      nums[i],nums[i+1]=nums[i+1],nums[i]\n",
        "      swaps+=1\n",
        "  return swaps\n",
        "def bubble_sort(nums):\n",
        "  n=len(nums)-1\n",
        "  for _ in range(n):\n",
        "    if bubble(nums)==0:\n",
        "      break\n",
        "bubble_sort(nums)\n",
        "print(nums)"
      ],
      "metadata": {
        "colab": {
          "base_uri": "https://localhost:8080/"
        },
        "id": "cDqkMgyQpZzm",
        "outputId": "913516ea-4f38-42b9-a69d-c2dca41c24d4"
      },
      "execution_count": null,
      "outputs": [
        {
          "output_type": "stream",
          "name": "stdout",
          "text": [
            "[1, 2, 3, 4, 5]\n"
          ]
        }
      ]
    },
    {
      "cell_type": "markdown",
      "source": [
        "#azimjon.com/academy"
      ],
      "metadata": {
        "id": "FJxfma-A-2il"
      }
    }
  ]
}