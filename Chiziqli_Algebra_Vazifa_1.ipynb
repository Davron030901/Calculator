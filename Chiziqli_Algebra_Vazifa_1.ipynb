{
  "nbformat": 4,
  "nbformat_minor": 0,
  "metadata": {
    "colab": {
      "provenance": [],
      "include_colab_link": true
    },
    "kernelspec": {
      "name": "python3",
      "display_name": "Python 3"
    },
    "language_info": {
      "name": "python"
    }
  },
  "cells": [
    {
      "cell_type": "markdown",
      "metadata": {
        "id": "view-in-github",
        "colab_type": "text"
      },
      "source": [
        "<a href=\"https://colab.research.google.com/github/Davron030901/Calculator/blob/main/Chiziqli_Algebra_Vazifa_1.ipynb\" target=\"_parent\"><img src=\"https://colab.research.google.com/assets/colab-badge.svg\" alt=\"Open In Colab\"/></a>"
      ]
    },
    {
      "cell_type": "markdown",
      "source": [
        "# Vazifa 1: Vektor va Vektor Algebra"
      ],
      "metadata": {
        "id": "0sJib4hm5Cs8"
      }
    },
    {
      "cell_type": "markdown",
      "source": [
        "## Vazifa 1.1: Vektor ustida amallar\n",
        "\n",
        "Agar $\\textbf{u}= \\begin{bmatrix} 5 \\\\ 2 \\\\ 9 \\end{bmatrix}$ va $\\textbf{v}= \\begin{bmatrix} 1 \\\\ -8 \\\\ 6 \\end{bmatrix}$, $c=0.5$ bo'lsa, quyidagilarni bajaring:\n",
        "\n",
        "1. $\\textbf{u} + \\textbf{v}$\n",
        "2. $\\textbf{u} - \\textbf{v}$\n",
        "3. $c\\textbf{u}$\n",
        "4. $\\textbf{v}$ uzunligi\n",
        "5. $\\textbf{u}$ larining birlik vektori ko'rinishi\n",
        "\n"
      ],
      "metadata": {
        "id": "iqiE12LJ4-9o"
      }
    },
    {
      "cell_type": "code",
      "execution_count": 1,
      "metadata": {
        "id": "UC6ODfQO42GA",
        "colab": {
          "base_uri": "https://localhost:8080/"
        },
        "outputId": "c4678109-d166-48ee-f3ab-1287700fedc4"
      },
      "outputs": [
        {
          "output_type": "stream",
          "name": "stdout",
          "text": [
            "[ 6 -6 15]\n",
            "[ 4 10  3]\n",
            "[2.5 1.  4.5]\n",
            "10.04987562112089\n",
            "[0.47673129 0.19069252 0.85811633]\n",
            "[ 0.09950372 -0.79602975  0.59702231]\n"
          ]
        }
      ],
      "source": [
        "import numpy as np\n",
        "u=np.array([5,2,9])\n",
        "v=np.array([1,-8,6])\n",
        "c=0.5\n",
        "print(u+v)\n",
        "print(u-v)\n",
        "print(c*u)\n",
        "print(np.linalg.norm(v))\n",
        "print(u/np.linalg.norm(u))\n",
        "print(v/np.linalg.norm(v))"
      ]
    },
    {
      "cell_type": "markdown",
      "source": [
        "## Vazifa 1.2: Vektorlar normasi va skalyar ko'paytma\n",
        "\n",
        "Agar $\\textbf{u}= \\begin{bmatrix} 1 \\\\ -1 \\\\ 2 \\end{bmatrix}$ va $\\textbf{v}= \\begin{bmatrix} 3 \\\\ -1 \\\\ 4 \\end{bmatrix}$, quyidagilarni toping:\n",
        "\n",
        "1. $\\textbf{u}$ vektorining $L_1$ normasi\n",
        "2. $\\textbf{v}$ vektorining $L_2$ normasi\n",
        "3. $\\textbf{u} \\cdot \\textbf{v}$\n",
        "4. $d(\\textbf{u}, \\textbf{v})$ (Evklid masofa)\n",
        "5. $\\textbf{u}$ va $\\textbf{v}$ orasidagi burchak\n",
        "\n"
      ],
      "metadata": {
        "id": "LA3atD9R5KVB"
      }
    },
    {
      "cell_type": "code",
      "source": [
        "u=np.array([1,-1,2])\n",
        "v=np.array([3,-1,4])\n",
        "l1_norm=np.linalg.norm(u,1)\n",
        "print(l1_norm)\n",
        "l2_norm=np.linalg.norm(v,2)\n",
        "print(l2_norm)\n",
        "dot_p=np.dot(u,v)\n",
        "print(dot_p)\n",
        "evklit=np.linalg.norm(u-v)\n",
        "print(evklit)\n",
        "cos_theta=dot_p/(np.linalg.norm(u)*np.linalg.norm(v))\n",
        "print(cos_theta)\n",
        "theta=np.arccos(cos_theta)\n",
        "print(theta*180/np.pi)"
      ],
      "metadata": {
        "id": "YSjAuw9T5LaE",
        "colab": {
          "base_uri": "https://localhost:8080/"
        },
        "outputId": "5bb6f93e-2c37-40c9-95e4-e3b3b8f0cfcd"
      },
      "execution_count": 2,
      "outputs": [
        {
          "output_type": "stream",
          "name": "stdout",
          "text": [
            "4.0\n",
            "5.0990195135927845\n",
            "12\n",
            "2.8284271247461903\n",
            "0.960768922830523\n",
            "16.102113751985986\n"
          ]
        }
      ]
    },
    {
      "cell_type": "markdown",
      "source": [
        "## Vazifa 1.3: Chiziqli bog'liqlik\n",
        "\n",
        "Quyidagilarni aniqlang:\n",
        "\n",
        "1. $\\textbf{u}= \\begin{bmatrix} 1 \\\\ 2 \\end{bmatrix}, \\textbf{v}= \\begin{bmatrix} 3 \\\\ 4 \\end{bmatrix}, \\textbf{w}= \\begin{bmatrix} 5 \\\\ 6 \\end{bmatrix}$ chiziqli bog'liqmi?\n",
        "\n",
        "2. $\\textbf{u}= \\begin{bmatrix} 1 \\\\ 2 \\end{bmatrix}, \\textbf{v}= \\begin{bmatrix} 3 \\\\ 4 \\end{bmatrix}, \\textbf{w}= \\begin{bmatrix} 8 \\\\ 14 \\end{bmatrix}$ chiziqli bog'liqmi?\n",
        "\n",
        "\n"
      ],
      "metadata": {
        "id": "I4vW2YoK5NcP"
      }
    },
    {
      "cell_type": "code",
      "source": [
        "u1 = np.array([1, 2])\n",
        "v1 = np.array([3, 4])\n",
        "w1 = np.array([5, 6])\n",
        "\n",
        "u2 = np.array([1, 2])\n",
        "v2 = np.array([3, 4])\n",
        "w2 = np.array([8, 14])\n",
        "\n",
        "\n",
        "def check_linear_combination(u, v, w):\n",
        "    A = np.column_stack((u, v))\n",
        "    coefficients, _, _, _ = np.linalg.lstsq(A, w, rcond=None)\n",
        "    w_reconstructed = coefficients[0] * u + coefficients[1] * v\n",
        "    difference = np.linalg.norm(w - w_reconstructed)\n",
        "    return coefficients, difference\n",
        "\n",
        "coeffs1, diff1 = check_linear_combination(u1, v1, w1)\n",
        "print(\"1-holat:\")\n",
        "print(\"Koefitsientlar (a, b):\", coeffs1)\n",
        "print(\"Farq (norm):\", diff1)\n",
        "if diff1 < 1e-10:\n",
        "    print(\"Chiziqli bog'liq!\")\n",
        "else:\n",
        "    print(\"Chiziqli mustaqil!\")\n",
        "\n",
        "coeffs2, diff2 = check_linear_combination(u2, v2, w2)\n",
        "print(\"\\n2-holat:\")\n",
        "print(\"Koefitsientlar (a, b):\", coeffs2)\n",
        "print(\"Farq (norm):\", diff2)\n",
        "if diff2 < 1e-10:\n",
        "    print(\"Chiziqli bog'liq!\")\n",
        "else:\n",
        "    print(\"Chiziqli mustaqil!\")"
      ],
      "metadata": {
        "id": "aMBtCzWu5OD4",
        "colab": {
          "base_uri": "https://localhost:8080/"
        },
        "outputId": "73d315fa-4547-48b6-fc5b-cda78957e7fc"
      },
      "execution_count": 3,
      "outputs": [
        {
          "output_type": "stream",
          "name": "stdout",
          "text": [
            "1-holat:\n",
            "Koefitsientlar (a, b): [-1.  2.]\n",
            "Farq (norm): 1.7763568394002505e-15\n",
            "Chiziqli bog'liq!\n",
            "\n",
            "2-holat:\n",
            "Koefitsientlar (a, b): [5. 1.]\n",
            "Farq (norm): 8.881784197001252e-15\n",
            "Chiziqli bog'liq!\n"
          ]
        }
      ]
    },
    {
      "cell_type": "markdown",
      "source": [
        "# 📌 Mini-Loyiha: Oddiy Film Tavsiya Qiluvchi Tizim\n",
        "\n",
        "![Netflix](https://img.shields.io/badge/Netflix-E50914?style=for-the-badge&logo=netflix&logoColor=white)\n",
        "Tasavvur qiling siz Netflix  companiyasida ishlayapsiz. Ma'lumotlar bazasi:\n",
        "\n",
        "| Film nomi         | Jangari ⚔️ | Romantik 💕 | Fantastika 🚀 | Drama 🎭 | Komediya 😂 |\n",
        "|------------------|----------|-----------|--------------|----------|------------|\n",
        "| **Sheryurak**    | 5        | 1         | 2            | 1        | 0          |\n",
        "| **Titanik**      | 1        | 4         | 2            | 2        | 1          |\n",
        "| **Avatar**       | 3        | 2         | 5            | 2        | 1          |\n",
        "| **Buyuk Getsbi** | 1        | 2         | 3            | 4        | 0          |\n",
        "| **Pushti Pantera** | 1      | 1         | 4            | 1        | 5          |\n",
        "\n",
        "**Foydalanuvchi qiziqishlari**:\n",
        "```python\n",
        "[Jangari = 5, Romantik = 3, Fantastika = 1, Drama = 2, Komediya = 2]\n",
        "```\n",
        "\n",
        "🎯 **Maqsad**: Foydalanuvchining yoqtirgan kino janrlariga asoslanib, unga mos filmlarni tavsiya qilish.\n",
        "\n",
        "-------\n",
        "📌 **Bosqichlar**:\n",
        "1. Foydalanuvchi qiziqishini vektor shaklida ifodalash\n",
        "    - Foydalanuvchi har bir janr bo‘yicha nechta filmga \"like\" berganini ko‘rsatadi\n",
        "    \n",
        "2. Filmlar janrlariga qarab vektor shaklida ifodalash:\n",
        "    - Har bir filmni quyidagi formatda ifodalaymiz:\n",
        "```python\n",
        "                    [5, 1, 2, 1, 0] # Sheryurak\n",
        "                    [1, 4, 2, 2, 1] # Titanik\n",
        "                    [3, 2, 5, 2, 1] # Avatar\n",
        "                    [1, 2, 3, 4, 0] # Buyuk Getsbi\n",
        "                    [1, 1, 4, 1, 5] # Pushti Pantera\n",
        "```\n",
        "    - Bu vektorda har bir qiymat o‘sha film qaysi janrga qanchalik tegishli ekanini bildiradi.\n",
        "\n",
        "3. Foydalanuvchi qiziqishi bilan filmlar orasidagi o‘xshashlikni hisoblash\n",
        "    - Har bir film foydalanuvchi qiziqishlariga qanchalik yaqin ekanini aniqlash.\n",
        "    - Buning uchun **kosinus o‘xshashlik** metodi foydalanamiz.\n",
        "\n",
        "\n",
        "4. Foydalanuvchiga eng mos keladigan TOP-3 filmlarni tavsiya qilish\n",
        "    - O‘xshashlik bo‘yicha eng yuqori natijalarga ega filmlarni tanlash."
      ],
      "metadata": {
        "id": "9AzlY3Zd5UZ0"
      }
    },
    {
      "cell_type": "code",
      "source": [
        "import numpy as np\n",
        "from scipy.linalg import null_space\n",
        "\n",
        "foydalanuvchi= np.array([5, 3, 1, 2, 2])\n",
        "filmlar={\n",
        "\"Sheryurak\":np.array([5, 1, 2, 1, 0]),\n",
        "\"Titanik\":np.array([1, 4, 2, 2, 1]),\n",
        "\"Avatar\":np.array([3, 2, 5, 2, 1]),\n",
        "\"Buyuk Getsbi\":np.array([1, 2, 3, 4, 0]),\n",
        "\"Pushti Pantera\":np.array([1, 1, 4, 1, 5])\n",
        "}"
      ],
      "metadata": {
        "id": "mh0xw1ok5U9x"
      },
      "execution_count": 4,
      "outputs": []
    },
    {
      "cell_type": "code",
      "source": [
        "# Qadam 3:\n",
        "tavsiya=[]\n",
        "for film_nomi,reyting in filmlar.items():\n",
        "  cos_sim=np.dot(reyting,foydalanuvchi)/(np.linalg.norm(reyting)*np.linalg.norm(foydalanuvchi))\n",
        "  tavsiya.append((film_nomi,cos_sim))\n",
        "tavsiya"
      ],
      "metadata": {
        "id": "n6i4UOQo5bcS",
        "colab": {
          "base_uri": "https://localhost:8080/"
        },
        "outputId": "c531ea65-cef6-4243-a29d-e9cb46d252ea"
      },
      "execution_count": 6,
      "outputs": [
        {
          "output_type": "execute_result",
          "data": {
            "text/plain": [
              "[('Sheryurak', 0.8764656570636428),\n",
              " ('Titanik', 0.747685755693224),\n",
              " ('Avatar', 0.744186046511628),\n",
              " ('Buyuk Getsbi', 0.612530651028675),\n",
              " ('Pushti Pantera', 0.5517605878460435)]"
            ]
          },
          "metadata": {},
          "execution_count": 6
        }
      ]
    },
    {
      "cell_type": "code",
      "source": [
        "# Qadam 4:\n",
        "tavsiya=sorted(tavsiya,key=lambda x:x[1],reverse=True)\n",
        "for i in range(3):\n",
        "  film_nomi,cos_sim=tavsiya[i]\n",
        "  print(f\"{film_nomi} - {cos_sim}\")"
      ],
      "metadata": {
        "id": "qdex9bvJ5dGT",
        "colab": {
          "base_uri": "https://localhost:8080/"
        },
        "outputId": "bcb35b35-bbd4-4502-c0d7-68445723595c"
      },
      "execution_count": 8,
      "outputs": [
        {
          "output_type": "stream",
          "name": "stdout",
          "text": [
            "Sheryurak - 0.8764656570636428\n",
            "Titanik - 0.747685755693224\n",
            "Avatar - 0.744186046511628\n"
          ]
        }
      ]
    }
  ]
}